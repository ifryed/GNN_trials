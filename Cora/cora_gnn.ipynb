{
 "cells": [
  {
   "cell_type": "markdown",
   "metadata": {},
   "source": [
    "# My First GNN\n",
    "I followed [Petar Veličković](https://www.youtube.com/channel/UC9bkKi8Us7yevvP1KIBQHog) [talk](https://www.youtube.com/watch?v=8owQBFAHw7E) on the TensorFlow Channel and implemented the code in PyTorch (originaly implemented in TensorFlow)\n",
    "\n",
    "The task was to classifie papers catagory by using a word vector and a graph connecting papers to their citetions.\n",
    "\n",
    "Dataset: [CORA](https://relational.fit.cvut.cz/dataset/CORA)"
   ]
  },
  {
   "cell_type": "code",
   "execution_count": 241,
   "metadata": {},
   "outputs": [],
   "source": [
    "import pandas as pd\n",
    "import numpy as np\n",
    "import spektral\n",
    "import torch\n",
    "from torch import nn\n",
    "from torch.optim import Adam\n",
    "\n",
    "import time"
   ]
  },
  {
   "cell_type": "code",
   "execution_count": 89,
   "metadata": {},
   "outputs": [
    {
     "name": "stdout",
     "output_type": "stream",
     "text": [
      "torch.Size([2708, 1433])\n",
      "torch.Size([2708, 2708])\n",
      "torch.Size([2708, 7])\n",
      "Train#:\t tensor(140)\n",
      "Val#:\t tensor(500)\n",
      "Test#:\t tensor(1000)\n"
     ]
    }
   ],
   "source": [
    "dataset = spektral.datasets.citation.Citation('cora')\n",
    "graph = dataset.graphs[0]\n",
    "#   a: the adjacency matrix\n",
    "#   x: the node features\n",
    "#   e: the edge features\n",
    "#   y: the labels\n",
    "\n",
    "\n",
    "adj = graph.a\n",
    "features = graph.x\n",
    "e_features = graph.e\n",
    "labels = torch.from_numpy(graph.y)\n",
    "train_mask = torch.from_numpy(dataset.mask_tr)\n",
    "val_mask = torch.from_numpy(dataset.mask_va)\n",
    "test_mask = torch.from_numpy(dataset.mask_te)\n",
    "\n",
    "adj = torch.from_numpy(adj + np.eye(adj.shape[0]))\n",
    "features = torch.from_numpy(features).type(torch.float32)\n",
    "adj = adj.type(torch.float32)\n",
    "\n",
    "print(features.shape)\n",
    "print(adj.shape)\n",
    "print(labels.shape)\n",
    "\n",
    "print(\"Train#:\\t\", torch.sum(train_mask))\n",
    "print(\"Val#:\\t\", torch.sum(val_mask))\n",
    "print(\"Test#:\\t\", torch.sum(test_mask))"
   ]
  },
  {
   "cell_type": "markdown",
   "metadata": {},
   "source": [
    "List of catagories:\n",
    "- Case_Based\n",
    "- Genetic_Algorithms\n",
    "- Neural_Networks\n",
    "- Probabilistic_Methods\n",
    "- Reinforcement_Learning\n",
    "- Rule_Learning\n",
    "- Theory"
   ]
  },
  {
   "cell_type": "code",
   "execution_count": 246,
   "metadata": {},
   "outputs": [],
   "source": [
    "def masked_softmax_cross_entropy(logits,labels,mask):\n",
    "    loss = nn.CrossEntropyLoss(reduction='none')(logits,torch.argmax(labels,dim=1))\n",
    "    mask = mask.type(torch.float32)\n",
    "    mask /= torch.mean(mask)\n",
    "    loss *= mask\n",
    "    return torch.mean(loss)\n",
    "\n",
    "def masked_accuracy(logits,labels, mask):\n",
    "    correct_prediction = (torch.argmax(logits, 1) == torch.argmax(labels, 1))\n",
    "    accuracy_all = correct_prediction.type(torch.float32)\n",
    "    mask = mask.type(torch.float32)\n",
    "    mask /= torch.mean(mask)\n",
    "    accuracy_all *= mask\n",
    "    \n",
    "    return torch.mean(accuracy_all)"
   ]
  },
  {
   "cell_type": "code",
   "execution_count": 212,
   "metadata": {},
   "outputs": [],
   "source": [
    "class GnnLayer(nn.Module):\n",
    "    def __init__(self, in_dim, out_dim, activation):\n",
    "        super(GnnLayer,self).__init__()\n",
    "        self.fc = nn.Linear(in_dim, out_dim)\n",
    "        self.act = activation\n",
    "        \n",
    "    def forward(self, input_x, adj):\n",
    "        x = self.fc(input_x)\n",
    "        x = torch.matmul(adj,x)\n",
    "        x = self.act(x)\n",
    "        return x\n",
    "        \n",
    "class CoraGnn(nn.Module):\n",
    "    def __init__(self,feat_len,units,lbl_len):\n",
    "        super(CoraGnn, self).__init__()\n",
    "        self.lyr_1 = GnnLayer(feat_len, units, nn.ReLU())\n",
    "        self.lyr_2 = GnnLayer(units, lbl_len, nn.Identity())\n",
    "        \n",
    "    def forward(self,input_x, adj):\n",
    "        x = self.lyr_1(input_x, adj)\n",
    "        x = self.lyr_2(x, adj)\n",
    "        \n",
    "        return x"
   ]
  },
  {
   "cell_type": "code",
   "execution_count": 213,
   "metadata": {},
   "outputs": [],
   "source": [
    "def train_cora(fts,adj,units,epochs,lr):\n",
    "    net = CoraGnn(len(fts[0]),units,len(labels[0]))\n",
    "    optimizer = Adam(net.parameters(),lr=lr)\n",
    "    \n",
    "    best_accuracy = 0.0\n",
    "    \n",
    "    for ep in range(epochs+1):\n",
    "        logits = net(fts,adj)\n",
    "        loss = masked_softmax_cross_entropy(logits,labels,train_mask)\n",
    "        \n",
    "        loss.backward()\n",
    "        optimizer.step()\n",
    "        \n",
    "        with torch.no_grad():\n",
    "            logits = net(fts,adj)\n",
    "            val_accuracy = masked_accuracy(logits, labels,val_mask)\n",
    "            test_accuracy = masked_accuracy(logits, labels,val_mask)\n",
    "        \n",
    "        if val_accuracy > best_accuracy:\n",
    "            best_accuracy = val_accuracy\n",
    "            print(\"Epoch: {} | Train Loss: {:.3f} | Val Acc: {:.3f} | Test Acc: {:.3f}\".format(ep,loss.item(),val_accuracy.item(),test_accuracy.item()))\n",
    "    print(\"Done!\")"
   ]
  },
  {
   "cell_type": "code",
   "execution_count": 233,
   "metadata": {},
   "outputs": [
    {
     "ename": "IndexError",
     "evalue": "Dimension out of range (expected to be in range of [-1, 0], but got 1)",
     "output_type": "error",
     "traceback": [
      "\u001b[1;31m---------------------------------------------------------------------------\u001b[0m",
      "\u001b[1;31mIndexError\u001b[0m                                Traceback (most recent call last)",
      "\u001b[1;32m<ipython-input-233-98640f2d73eb>\u001b[0m in \u001b[0;36m<module>\u001b[1;34m\u001b[0m\n\u001b[1;32m----> 1\u001b[1;33m \u001b[0mtrain_cora\u001b[0m\u001b[1;33m(\u001b[0m\u001b[0mfeatures\u001b[0m\u001b[1;33m,\u001b[0m\u001b[0madj\u001b[0m\u001b[1;33m,\u001b[0m\u001b[1;36m32\u001b[0m\u001b[1;33m,\u001b[0m\u001b[1;36m200\u001b[0m\u001b[1;33m,\u001b[0m\u001b[1;36m1e-2\u001b[0m\u001b[1;33m)\u001b[0m\u001b[1;33m\u001b[0m\u001b[1;33m\u001b[0m\u001b[0m\n\u001b[0m",
      "\u001b[1;32m<ipython-input-213-60d8e099796b>\u001b[0m in \u001b[0;36mtrain_cora\u001b[1;34m(fts, adj, units, epochs, lr)\u001b[0m\n\u001b[0;32m      7\u001b[0m     \u001b[1;32mfor\u001b[0m \u001b[0mep\u001b[0m \u001b[1;32min\u001b[0m \u001b[0mrange\u001b[0m\u001b[1;33m(\u001b[0m\u001b[0mepochs\u001b[0m\u001b[1;33m+\u001b[0m\u001b[1;36m1\u001b[0m\u001b[1;33m)\u001b[0m\u001b[1;33m:\u001b[0m\u001b[1;33m\u001b[0m\u001b[1;33m\u001b[0m\u001b[0m\n\u001b[0;32m      8\u001b[0m         \u001b[0mlogits\u001b[0m \u001b[1;33m=\u001b[0m \u001b[0mnet\u001b[0m\u001b[1;33m(\u001b[0m\u001b[0mfts\u001b[0m\u001b[1;33m,\u001b[0m\u001b[0madj\u001b[0m\u001b[1;33m)\u001b[0m\u001b[1;33m\u001b[0m\u001b[1;33m\u001b[0m\u001b[0m\n\u001b[1;32m----> 9\u001b[1;33m         \u001b[0mloss\u001b[0m \u001b[1;33m=\u001b[0m \u001b[0mmasked_softmax_cross_entropy\u001b[0m\u001b[1;33m(\u001b[0m\u001b[0mlogits\u001b[0m\u001b[1;33m,\u001b[0m\u001b[0mlabels\u001b[0m\u001b[1;33m,\u001b[0m\u001b[0mtrain_mask\u001b[0m\u001b[1;33m)\u001b[0m\u001b[1;33m\u001b[0m\u001b[1;33m\u001b[0m\u001b[0m\n\u001b[0m\u001b[0;32m     10\u001b[0m \u001b[1;33m\u001b[0m\u001b[0m\n\u001b[0;32m     11\u001b[0m         \u001b[0mloss\u001b[0m\u001b[1;33m.\u001b[0m\u001b[0mbackward\u001b[0m\u001b[1;33m(\u001b[0m\u001b[1;33m)\u001b[0m\u001b[1;33m\u001b[0m\u001b[1;33m\u001b[0m\u001b[0m\n",
      "\u001b[1;32m<ipython-input-232-657a648bb93f>\u001b[0m in \u001b[0;36mmasked_softmax_cross_entropy\u001b[1;34m(logits, labels, mask)\u001b[0m\n\u001b[0;32m      4\u001b[0m     \u001b[0mmask\u001b[0m \u001b[1;33m/=\u001b[0m \u001b[0mtorch\u001b[0m\u001b[1;33m.\u001b[0m\u001b[0mmean\u001b[0m\u001b[1;33m(\u001b[0m\u001b[0mmask\u001b[0m\u001b[1;33m)\u001b[0m\u001b[1;33m\u001b[0m\u001b[1;33m\u001b[0m\u001b[0m\n\u001b[0;32m      5\u001b[0m     \u001b[0mloss\u001b[0m \u001b[1;33m*=\u001b[0m \u001b[0mmask\u001b[0m\u001b[1;33m\u001b[0m\u001b[1;33m\u001b[0m\u001b[0m\n\u001b[1;32m----> 6\u001b[1;33m     \u001b[0mmax_idx\u001b[0m \u001b[1;33m=\u001b[0m \u001b[0mtorch\u001b[0m\u001b[1;33m.\u001b[0m\u001b[0margmax\u001b[0m\u001b[1;33m(\u001b[0m\u001b[0mtorch\u001b[0m\u001b[1;33m.\u001b[0m\u001b[0mmean\u001b[0m\u001b[1;33m(\u001b[0m\u001b[0mloss\u001b[0m\u001b[1;33m,\u001b[0m\u001b[0mdim\u001b[0m\u001b[1;33m=\u001b[0m\u001b[1;36m1\u001b[0m\u001b[1;33m)\u001b[0m\u001b[1;33m)\u001b[0m\u001b[1;33m\u001b[0m\u001b[1;33m\u001b[0m\u001b[0m\n\u001b[0m\u001b[0;32m      7\u001b[0m     \u001b[1;32mreturn\u001b[0m \u001b[0mtorch\u001b[0m\u001b[1;33m.\u001b[0m\u001b[0mmean\u001b[0m\u001b[1;33m(\u001b[0m\u001b[0mloss\u001b[0m\u001b[1;33m[\u001b[0m\u001b[0mmax_idx\u001b[0m\u001b[1;33m]\u001b[0m\u001b[1;33m)\u001b[0m\u001b[1;33m\u001b[0m\u001b[1;33m\u001b[0m\u001b[0m\n\u001b[0;32m      8\u001b[0m \u001b[1;33m\u001b[0m\u001b[0m\n",
      "\u001b[1;31mIndexError\u001b[0m: Dimension out of range (expected to be in range of [-1, 0], but got 1)"
     ]
    }
   ],
   "source": [
    "train_cora(features,adj,32,200,1e-2)"
   ]
  },
  {
   "cell_type": "code",
   "execution_count": 215,
   "metadata": {},
   "outputs": [
    {
     "name": "stdout",
     "output_type": "stream",
     "text": [
      "Epoch: 0 | Train Loss: 1.949 | Val Acc: 0.240 | Test Acc: 0.240\n",
      "Epoch: 1 | Train Loss: 1.835 | Val Acc: 0.314 | Test Acc: 0.314\n",
      "Epoch: 2 | Train Loss: 1.705 | Val Acc: 0.360 | Test Acc: 0.360\n",
      "Epoch: 3 | Train Loss: 1.538 | Val Acc: 0.394 | Test Acc: 0.394\n",
      "Epoch: 4 | Train Loss: 1.346 | Val Acc: 0.434 | Test Acc: 0.434\n",
      "Epoch: 5 | Train Loss: 1.138 | Val Acc: 0.444 | Test Acc: 0.444\n",
      "Epoch: 6 | Train Loss: 0.929 | Val Acc: 0.454 | Test Acc: 0.454\n",
      "Epoch: 7 | Train Loss: 0.732 | Val Acc: 0.468 | Test Acc: 0.468\n",
      "Epoch: 8 | Train Loss: 0.560 | Val Acc: 0.470 | Test Acc: 0.470\n",
      "Epoch: 9 | Train Loss: 0.418 | Val Acc: 0.478 | Test Acc: 0.478\n",
      "Epoch: 10 | Train Loss: 0.309 | Val Acc: 0.488 | Test Acc: 0.488\n",
      "Epoch: 11 | Train Loss: 0.229 | Val Acc: 0.494 | Test Acc: 0.494\n",
      "Epoch: 12 | Train Loss: 0.171 | Val Acc: 0.498 | Test Acc: 0.498\n",
      "Epoch: 13 | Train Loss: 0.130 | Val Acc: 0.500 | Test Acc: 0.500\n",
      "Epoch: 14 | Train Loss: 0.100 | Val Acc: 0.512 | Test Acc: 0.512\n",
      "Epoch: 15 | Train Loss: 0.078 | Val Acc: 0.518 | Test Acc: 0.518\n",
      "Epoch: 23 | Train Loss: 0.009 | Val Acc: 0.524 | Test Acc: 0.524\n",
      "Epoch: 24 | Train Loss: 0.006 | Val Acc: 0.530 | Test Acc: 0.530\n",
      "Epoch: 26 | Train Loss: 0.003 | Val Acc: 0.536 | Test Acc: 0.536\n",
      "Epoch: 27 | Train Loss: 0.002 | Val Acc: 0.538 | Test Acc: 0.538\n",
      "Epoch: 28 | Train Loss: 0.002 | Val Acc: 0.540 | Test Acc: 0.540\n",
      "Epoch: 29 | Train Loss: 0.001 | Val Acc: 0.546 | Test Acc: 0.546\n",
      "Epoch: 32 | Train Loss: 0.000 | Val Acc: 0.548 | Test Acc: 0.548\n",
      "Epoch: 36 | Train Loss: 0.000 | Val Acc: 0.550 | Test Acc: 0.550\n",
      "Epoch: 42 | Train Loss: 0.000 | Val Acc: 0.552 | Test Acc: 0.552\n",
      "Epoch: 49 | Train Loss: 0.000 | Val Acc: 0.554 | Test Acc: 0.554\n",
      "Done!\n"
     ]
    }
   ],
   "source": [
    "train_cora(features,torch.eye(adj.shape[0]),32,200,1e-2)"
   ]
  },
  {
   "cell_type": "code",
   "execution_count": 216,
   "metadata": {},
   "outputs": [
    {
     "name": "stdout",
     "output_type": "stream",
     "text": [
      "Epoch: 0 | Train Loss: 1.951 | Val Acc: 0.558 | Test Acc: 0.558\n",
      "Epoch: 1 | Train Loss: 1.866 | Val Acc: 0.562 | Test Acc: 0.562\n",
      "Epoch: 3 | Train Loss: 1.626 | Val Acc: 0.564 | Test Acc: 0.564\n",
      "Epoch: 4 | Train Loss: 1.483 | Val Acc: 0.598 | Test Acc: 0.598\n",
      "Epoch: 5 | Train Loss: 1.333 | Val Acc: 0.630 | Test Acc: 0.630\n",
      "Epoch: 6 | Train Loss: 1.181 | Val Acc: 0.674 | Test Acc: 0.674\n",
      "Epoch: 7 | Train Loss: 1.033 | Val Acc: 0.706 | Test Acc: 0.706\n",
      "Epoch: 8 | Train Loss: 0.890 | Val Acc: 0.722 | Test Acc: 0.722\n",
      "Epoch: 9 | Train Loss: 0.759 | Val Acc: 0.736 | Test Acc: 0.736\n",
      "Epoch: 15 | Train Loss: 0.268 | Val Acc: 0.748 | Test Acc: 0.748\n",
      "Epoch: 16 | Train Loss: 0.215 | Val Acc: 0.758 | Test Acc: 0.758\n",
      "Epoch: 17 | Train Loss: 0.169 | Val Acc: 0.770 | Test Acc: 0.770\n",
      "Epoch: 18 | Train Loss: 0.130 | Val Acc: 0.774 | Test Acc: 0.774\n",
      "Done!\n"
     ]
    }
   ],
   "source": [
    "deg = torch.sum(adj, dim=1)\n",
    "train_cora(features,adj/deg,32,300,1e-2)"
   ]
  },
  {
   "cell_type": "code",
   "execution_count": 217,
   "metadata": {},
   "outputs": [
    {
     "name": "stdout",
     "output_type": "stream",
     "text": [
      "Epoch: 0 | Train Loss: 1.950 | Val Acc: 0.126 | Test Acc: 0.126\n",
      "Epoch: 1 | Train Loss: 1.861 | Val Acc: 0.424 | Test Acc: 0.424\n",
      "Epoch: 2 | Train Loss: 1.745 | Val Acc: 0.596 | Test Acc: 0.596\n",
      "Epoch: 3 | Train Loss: 1.608 | Val Acc: 0.670 | Test Acc: 0.670\n",
      "Epoch: 4 | Train Loss: 1.458 | Val Acc: 0.720 | Test Acc: 0.720\n",
      "Epoch: 5 | Train Loss: 1.303 | Val Acc: 0.744 | Test Acc: 0.744\n",
      "Epoch: 6 | Train Loss: 1.146 | Val Acc: 0.748 | Test Acc: 0.748\n",
      "Epoch: 7 | Train Loss: 0.993 | Val Acc: 0.758 | Test Acc: 0.758\n",
      "Epoch: 8 | Train Loss: 0.846 | Val Acc: 0.778 | Test Acc: 0.778\n",
      "Epoch: 9 | Train Loss: 0.708 | Val Acc: 0.790 | Test Acc: 0.790\n",
      "Done!\n"
     ]
    }
   ],
   "source": [
    "norm_deg = torch.diag(1.0/torch.sqrt(deg))\n",
    "norm_adj = torch.matmul(norm_deg,torch.matmul(adj,norm_deg))\n",
    "\n",
    "train_cora(features,norm_adj,32,200,1e-2)"
   ]
  }
 ],
 "metadata": {
  "kernelspec": {
   "display_name": "Python 3",
   "language": "python",
   "name": "python3"
  },
  "language_info": {
   "codemirror_mode": {
    "name": "ipython",
    "version": 3
   },
   "file_extension": ".py",
   "mimetype": "text/x-python",
   "name": "python",
   "nbconvert_exporter": "python",
   "pygments_lexer": "ipython3",
   "version": "3.7.5"
  }
 },
 "nbformat": 4,
 "nbformat_minor": 4
}
